{
 "cells": [
  {
   "cell_type": "code",
   "execution_count": 119,
   "id": "dbb88fd8",
   "metadata": {
    "execution": {
     "iopub.execute_input": "2022-12-22T19:18:49.835672Z",
     "iopub.status.busy": "2022-12-22T19:18:49.835164Z",
     "iopub.status.idle": "2022-12-22T19:18:51.031376Z",
     "shell.execute_reply": "2022-12-22T19:18:51.030198Z"
    },
    "papermill": {
     "duration": 1.207846,
     "end_time": "2022-12-22T19:18:51.034410",
     "exception": false,
     "start_time": "2022-12-22T19:18:49.826564",
     "status": "completed"
    },
    "tags": []
   },
   "outputs": [],
   "source": [
    "import pandas as pd\n",
    "import matplotlib.pyplot as plt\n",
    "import numpy as np \n",
    "import seaborn as sns"
   ]
  },
  {
   "cell_type": "code",
   "execution_count": 120,
   "id": "9c5c00c5",
   "metadata": {
    "execution": {
     "iopub.execute_input": "2022-12-22T19:18:51.047919Z",
     "iopub.status.busy": "2022-12-22T19:18:51.046918Z",
     "iopub.status.idle": "2022-12-22T19:18:51.167916Z",
     "shell.execute_reply": "2022-12-22T19:18:51.165660Z"
    },
    "papermill": {
     "duration": 0.130352,
     "end_time": "2022-12-22T19:18:51.170415",
     "exception": true,
     "start_time": "2022-12-22T19:18:51.040063",
     "status": "failed"
    },
    "tags": []
   },
   "outputs": [
    {
     "data": {
      "text/html": [
       "<div>\n",
       "<style scoped>\n",
       "    .dataframe tbody tr th:only-of-type {\n",
       "        vertical-align: middle;\n",
       "    }\n",
       "\n",
       "    .dataframe tbody tr th {\n",
       "        vertical-align: top;\n",
       "    }\n",
       "\n",
       "    .dataframe thead th {\n",
       "        text-align: right;\n",
       "    }\n",
       "</style>\n",
       "<table border=\"1\" class=\"dataframe\">\n",
       "  <thead>\n",
       "    <tr style=\"text-align: right;\">\n",
       "      <th></th>\n",
       "      <th>PassengerId</th>\n",
       "      <th>Survived</th>\n",
       "      <th>Pclass</th>\n",
       "      <th>Name</th>\n",
       "      <th>Sex</th>\n",
       "      <th>Age</th>\n",
       "      <th>SibSp</th>\n",
       "      <th>Parch</th>\n",
       "      <th>Ticket</th>\n",
       "      <th>Fare</th>\n",
       "      <th>Cabin</th>\n",
       "      <th>Embarked</th>\n",
       "    </tr>\n",
       "  </thead>\n",
       "  <tbody>\n",
       "    <tr>\n",
       "      <th>0</th>\n",
       "      <td>1</td>\n",
       "      <td>0</td>\n",
       "      <td>3</td>\n",
       "      <td>Braund, Mr. Owen Harris</td>\n",
       "      <td>male</td>\n",
       "      <td>22.0</td>\n",
       "      <td>1</td>\n",
       "      <td>0</td>\n",
       "      <td>A/5 21171</td>\n",
       "      <td>7.2500</td>\n",
       "      <td>NaN</td>\n",
       "      <td>S</td>\n",
       "    </tr>\n",
       "    <tr>\n",
       "      <th>1</th>\n",
       "      <td>2</td>\n",
       "      <td>1</td>\n",
       "      <td>1</td>\n",
       "      <td>Cumings, Mrs. John Bradley (Florence Briggs Th...</td>\n",
       "      <td>female</td>\n",
       "      <td>38.0</td>\n",
       "      <td>1</td>\n",
       "      <td>0</td>\n",
       "      <td>PC 17599</td>\n",
       "      <td>71.2833</td>\n",
       "      <td>C85</td>\n",
       "      <td>C</td>\n",
       "    </tr>\n",
       "    <tr>\n",
       "      <th>2</th>\n",
       "      <td>3</td>\n",
       "      <td>1</td>\n",
       "      <td>3</td>\n",
       "      <td>Heikkinen, Miss. Laina</td>\n",
       "      <td>female</td>\n",
       "      <td>26.0</td>\n",
       "      <td>0</td>\n",
       "      <td>0</td>\n",
       "      <td>STON/O2. 3101282</td>\n",
       "      <td>7.9250</td>\n",
       "      <td>NaN</td>\n",
       "      <td>S</td>\n",
       "    </tr>\n",
       "    <tr>\n",
       "      <th>3</th>\n",
       "      <td>4</td>\n",
       "      <td>1</td>\n",
       "      <td>1</td>\n",
       "      <td>Futrelle, Mrs. Jacques Heath (Lily May Peel)</td>\n",
       "      <td>female</td>\n",
       "      <td>35.0</td>\n",
       "      <td>1</td>\n",
       "      <td>0</td>\n",
       "      <td>113803</td>\n",
       "      <td>53.1000</td>\n",
       "      <td>C123</td>\n",
       "      <td>S</td>\n",
       "    </tr>\n",
       "    <tr>\n",
       "      <th>4</th>\n",
       "      <td>5</td>\n",
       "      <td>0</td>\n",
       "      <td>3</td>\n",
       "      <td>Allen, Mr. William Henry</td>\n",
       "      <td>male</td>\n",
       "      <td>35.0</td>\n",
       "      <td>0</td>\n",
       "      <td>0</td>\n",
       "      <td>373450</td>\n",
       "      <td>8.0500</td>\n",
       "      <td>NaN</td>\n",
       "      <td>S</td>\n",
       "    </tr>\n",
       "  </tbody>\n",
       "</table>\n",
       "</div>"
      ],
      "text/plain": [
       "   PassengerId  Survived  Pclass  \\\n",
       "0            1         0       3   \n",
       "1            2         1       1   \n",
       "2            3         1       3   \n",
       "3            4         1       1   \n",
       "4            5         0       3   \n",
       "\n",
       "                                                Name     Sex   Age  SibSp  \\\n",
       "0                            Braund, Mr. Owen Harris    male  22.0      1   \n",
       "1  Cumings, Mrs. John Bradley (Florence Briggs Th...  female  38.0      1   \n",
       "2                             Heikkinen, Miss. Laina  female  26.0      0   \n",
       "3       Futrelle, Mrs. Jacques Heath (Lily May Peel)  female  35.0      1   \n",
       "4                           Allen, Mr. William Henry    male  35.0      0   \n",
       "\n",
       "   Parch            Ticket     Fare Cabin Embarked  \n",
       "0      0         A/5 21171   7.2500   NaN        S  \n",
       "1      0          PC 17599  71.2833   C85        C  \n",
       "2      0  STON/O2. 3101282   7.9250   NaN        S  \n",
       "3      0            113803  53.1000  C123        S  \n",
       "4      0            373450   8.0500   NaN        S  "
      ]
     },
     "execution_count": 120,
     "metadata": {},
     "output_type": "execute_result"
    }
   ],
   "source": [
    "df = pd.read_csv(r\"C:\\Users\\benjamin duborjal\\OneDrive - AIDEE\\Documents\\Cours OC\\Titanic\\train.csv\")\n",
    "df.head()"
   ]
  },
  {
   "cell_type": "markdown",
   "id": "03a8146f",
   "metadata": {},
   "source": [
    "### Nettoyage et analyse préliminaire du dataset"
   ]
  },
  {
   "cell_type": "code",
   "execution_count": 121,
   "id": "eb97bf4e",
   "metadata": {
    "execution": {
     "iopub.status.busy": "2022-12-22T19:17:22.838323Z",
     "iopub.status.idle": "2022-12-22T19:17:22.838676Z",
     "shell.execute_reply": "2022-12-22T19:17:22.838529Z",
     "shell.execute_reply.started": "2022-12-22T19:17:22.838511Z"
    },
    "papermill": {
     "duration": null,
     "end_time": null,
     "exception": null,
     "start_time": null,
     "status": "pending"
    },
    "tags": []
   },
   "outputs": [],
   "source": [
    "df = df[['PassengerId', 'Survived', 'Pclass', 'Sex', 'Age', 'Fare', 'Embarked']]"
   ]
  },
  {
   "cell_type": "code",
   "execution_count": 122,
   "id": "ddf18f26",
   "metadata": {
    "execution": {
     "iopub.status.busy": "2022-12-22T19:17:22.840181Z",
     "iopub.status.idle": "2022-12-22T19:17:22.840617Z",
     "shell.execute_reply": "2022-12-22T19:17:22.840424Z",
     "shell.execute_reply.started": "2022-12-22T19:17:22.840402Z"
    },
    "papermill": {
     "duration": null,
     "end_time": null,
     "exception": null,
     "start_time": null,
     "status": "pending"
    },
    "tags": []
   },
   "outputs": [],
   "source": [
    "df['Sex'] = df['Sex'].map({'male': 0, 'female':1})"
   ]
  },
  {
   "cell_type": "code",
   "execution_count": 123,
   "id": "4d51e17b",
   "metadata": {
    "execution": {
     "iopub.status.busy": "2022-12-22T19:17:22.842889Z",
     "iopub.status.idle": "2022-12-22T19:17:22.843559Z",
     "shell.execute_reply": "2022-12-22T19:17:22.843357Z",
     "shell.execute_reply.started": "2022-12-22T19:17:22.843334Z"
    },
    "papermill": {
     "duration": null,
     "end_time": null,
     "exception": null,
     "start_time": null,
     "status": "pending"
    },
    "tags": []
   },
   "outputs": [
    {
     "data": {
      "text/html": [
       "<div>\n",
       "<style scoped>\n",
       "    .dataframe tbody tr th:only-of-type {\n",
       "        vertical-align: middle;\n",
       "    }\n",
       "\n",
       "    .dataframe tbody tr th {\n",
       "        vertical-align: top;\n",
       "    }\n",
       "\n",
       "    .dataframe thead th {\n",
       "        text-align: right;\n",
       "    }\n",
       "</style>\n",
       "<table border=\"1\" class=\"dataframe\">\n",
       "  <thead>\n",
       "    <tr style=\"text-align: right;\">\n",
       "      <th></th>\n",
       "      <th>Survived</th>\n",
       "      <th>Pclass</th>\n",
       "      <th>Sex</th>\n",
       "      <th>Age</th>\n",
       "      <th>Fare</th>\n",
       "      <th>Embarked</th>\n",
       "    </tr>\n",
       "    <tr>\n",
       "      <th>PassengerId</th>\n",
       "      <th></th>\n",
       "      <th></th>\n",
       "      <th></th>\n",
       "      <th></th>\n",
       "      <th></th>\n",
       "      <th></th>\n",
       "    </tr>\n",
       "  </thead>\n",
       "  <tbody>\n",
       "    <tr>\n",
       "      <th>1</th>\n",
       "      <td>0</td>\n",
       "      <td>3</td>\n",
       "      <td>0</td>\n",
       "      <td>22.0</td>\n",
       "      <td>7.2500</td>\n",
       "      <td>S</td>\n",
       "    </tr>\n",
       "    <tr>\n",
       "      <th>2</th>\n",
       "      <td>1</td>\n",
       "      <td>1</td>\n",
       "      <td>1</td>\n",
       "      <td>38.0</td>\n",
       "      <td>71.2833</td>\n",
       "      <td>C</td>\n",
       "    </tr>\n",
       "    <tr>\n",
       "      <th>3</th>\n",
       "      <td>1</td>\n",
       "      <td>3</td>\n",
       "      <td>1</td>\n",
       "      <td>26.0</td>\n",
       "      <td>7.9250</td>\n",
       "      <td>S</td>\n",
       "    </tr>\n",
       "    <tr>\n",
       "      <th>4</th>\n",
       "      <td>1</td>\n",
       "      <td>1</td>\n",
       "      <td>1</td>\n",
       "      <td>35.0</td>\n",
       "      <td>53.1000</td>\n",
       "      <td>S</td>\n",
       "    </tr>\n",
       "    <tr>\n",
       "      <th>5</th>\n",
       "      <td>0</td>\n",
       "      <td>3</td>\n",
       "      <td>0</td>\n",
       "      <td>35.0</td>\n",
       "      <td>8.0500</td>\n",
       "      <td>S</td>\n",
       "    </tr>\n",
       "    <tr>\n",
       "      <th>...</th>\n",
       "      <td>...</td>\n",
       "      <td>...</td>\n",
       "      <td>...</td>\n",
       "      <td>...</td>\n",
       "      <td>...</td>\n",
       "      <td>...</td>\n",
       "    </tr>\n",
       "    <tr>\n",
       "      <th>887</th>\n",
       "      <td>0</td>\n",
       "      <td>2</td>\n",
       "      <td>0</td>\n",
       "      <td>27.0</td>\n",
       "      <td>13.0000</td>\n",
       "      <td>S</td>\n",
       "    </tr>\n",
       "    <tr>\n",
       "      <th>888</th>\n",
       "      <td>1</td>\n",
       "      <td>1</td>\n",
       "      <td>1</td>\n",
       "      <td>19.0</td>\n",
       "      <td>30.0000</td>\n",
       "      <td>S</td>\n",
       "    </tr>\n",
       "    <tr>\n",
       "      <th>889</th>\n",
       "      <td>0</td>\n",
       "      <td>3</td>\n",
       "      <td>1</td>\n",
       "      <td>NaN</td>\n",
       "      <td>23.4500</td>\n",
       "      <td>S</td>\n",
       "    </tr>\n",
       "    <tr>\n",
       "      <th>890</th>\n",
       "      <td>1</td>\n",
       "      <td>1</td>\n",
       "      <td>0</td>\n",
       "      <td>26.0</td>\n",
       "      <td>30.0000</td>\n",
       "      <td>C</td>\n",
       "    </tr>\n",
       "    <tr>\n",
       "      <th>891</th>\n",
       "      <td>0</td>\n",
       "      <td>3</td>\n",
       "      <td>0</td>\n",
       "      <td>32.0</td>\n",
       "      <td>7.7500</td>\n",
       "      <td>Q</td>\n",
       "    </tr>\n",
       "  </tbody>\n",
       "</table>\n",
       "<p>891 rows × 6 columns</p>\n",
       "</div>"
      ],
      "text/plain": [
       "             Survived  Pclass  Sex   Age     Fare Embarked\n",
       "PassengerId                                               \n",
       "1                   0       3    0  22.0   7.2500        S\n",
       "2                   1       1    1  38.0  71.2833        C\n",
       "3                   1       3    1  26.0   7.9250        S\n",
       "4                   1       1    1  35.0  53.1000        S\n",
       "5                   0       3    0  35.0   8.0500        S\n",
       "...               ...     ...  ...   ...      ...      ...\n",
       "887                 0       2    0  27.0  13.0000        S\n",
       "888                 1       1    1  19.0  30.0000        S\n",
       "889                 0       3    1   NaN  23.4500        S\n",
       "890                 1       1    0  26.0  30.0000        C\n",
       "891                 0       3    0  32.0   7.7500        Q\n",
       "\n",
       "[891 rows x 6 columns]"
      ]
     },
     "execution_count": 123,
     "metadata": {},
     "output_type": "execute_result"
    }
   ],
   "source": [
    "df.set_index('PassengerId',inplace=True)\n",
    "df"
   ]
  },
  {
   "cell_type": "code",
   "execution_count": 124,
   "id": "fdeba3ef",
   "metadata": {},
   "outputs": [
    {
     "data": {
      "text/plain": [
       "array(['S', 'C', 'Q', nan], dtype=object)"
      ]
     },
     "execution_count": 124,
     "metadata": {},
     "output_type": "execute_result"
    }
   ],
   "source": [
    "df['Embarked'].unique()"
   ]
  },
  {
   "cell_type": "code",
   "execution_count": 125,
   "id": "0cf12d0a",
   "metadata": {},
   "outputs": [],
   "source": [
    "df['Numeric_Embarked'] = df['Embarked'].map({'S':1, 'C': 2, 'Q':3})"
   ]
  },
  {
   "cell_type": "code",
   "execution_count": 126,
   "id": "d27f7b1c",
   "metadata": {
    "execution": {
     "iopub.status.busy": "2022-12-22T19:17:22.844793Z",
     "iopub.status.idle": "2022-12-22T19:17:22.845451Z",
     "shell.execute_reply": "2022-12-22T19:17:22.845238Z",
     "shell.execute_reply.started": "2022-12-22T19:17:22.845215Z"
    },
    "papermill": {
     "duration": null,
     "end_time": null,
     "exception": null,
     "start_time": null,
     "status": "pending"
    },
    "tags": []
   },
   "outputs": [
    {
     "data": {
      "text/html": [
       "<div>\n",
       "<style scoped>\n",
       "    .dataframe tbody tr th:only-of-type {\n",
       "        vertical-align: middle;\n",
       "    }\n",
       "\n",
       "    .dataframe tbody tr th {\n",
       "        vertical-align: top;\n",
       "    }\n",
       "\n",
       "    .dataframe thead th {\n",
       "        text-align: right;\n",
       "    }\n",
       "</style>\n",
       "<table border=\"1\" class=\"dataframe\">\n",
       "  <thead>\n",
       "    <tr style=\"text-align: right;\">\n",
       "      <th></th>\n",
       "      <th>Survived</th>\n",
       "      <th>Pclass</th>\n",
       "      <th>Sex</th>\n",
       "      <th>Age</th>\n",
       "      <th>Fare</th>\n",
       "      <th>Numeric_Embarked</th>\n",
       "    </tr>\n",
       "  </thead>\n",
       "  <tbody>\n",
       "    <tr>\n",
       "      <th>count</th>\n",
       "      <td>891.000000</td>\n",
       "      <td>891.000000</td>\n",
       "      <td>891.000000</td>\n",
       "      <td>714.000000</td>\n",
       "      <td>891.000000</td>\n",
       "      <td>889.000000</td>\n",
       "    </tr>\n",
       "    <tr>\n",
       "      <th>mean</th>\n",
       "      <td>0.383838</td>\n",
       "      <td>2.308642</td>\n",
       "      <td>0.352413</td>\n",
       "      <td>29.699118</td>\n",
       "      <td>32.204208</td>\n",
       "      <td>1.362205</td>\n",
       "    </tr>\n",
       "    <tr>\n",
       "      <th>std</th>\n",
       "      <td>0.486592</td>\n",
       "      <td>0.836071</td>\n",
       "      <td>0.477990</td>\n",
       "      <td>14.526497</td>\n",
       "      <td>49.693429</td>\n",
       "      <td>0.636157</td>\n",
       "    </tr>\n",
       "    <tr>\n",
       "      <th>min</th>\n",
       "      <td>0.000000</td>\n",
       "      <td>1.000000</td>\n",
       "      <td>0.000000</td>\n",
       "      <td>0.420000</td>\n",
       "      <td>0.000000</td>\n",
       "      <td>1.000000</td>\n",
       "    </tr>\n",
       "    <tr>\n",
       "      <th>25%</th>\n",
       "      <td>0.000000</td>\n",
       "      <td>2.000000</td>\n",
       "      <td>0.000000</td>\n",
       "      <td>20.125000</td>\n",
       "      <td>7.910400</td>\n",
       "      <td>1.000000</td>\n",
       "    </tr>\n",
       "    <tr>\n",
       "      <th>50%</th>\n",
       "      <td>0.000000</td>\n",
       "      <td>3.000000</td>\n",
       "      <td>0.000000</td>\n",
       "      <td>28.000000</td>\n",
       "      <td>14.454200</td>\n",
       "      <td>1.000000</td>\n",
       "    </tr>\n",
       "    <tr>\n",
       "      <th>75%</th>\n",
       "      <td>1.000000</td>\n",
       "      <td>3.000000</td>\n",
       "      <td>1.000000</td>\n",
       "      <td>38.000000</td>\n",
       "      <td>31.000000</td>\n",
       "      <td>2.000000</td>\n",
       "    </tr>\n",
       "    <tr>\n",
       "      <th>max</th>\n",
       "      <td>1.000000</td>\n",
       "      <td>3.000000</td>\n",
       "      <td>1.000000</td>\n",
       "      <td>80.000000</td>\n",
       "      <td>512.329200</td>\n",
       "      <td>3.000000</td>\n",
       "    </tr>\n",
       "  </tbody>\n",
       "</table>\n",
       "</div>"
      ],
      "text/plain": [
       "         Survived      Pclass         Sex         Age        Fare  \\\n",
       "count  891.000000  891.000000  891.000000  714.000000  891.000000   \n",
       "mean     0.383838    2.308642    0.352413   29.699118   32.204208   \n",
       "std      0.486592    0.836071    0.477990   14.526497   49.693429   \n",
       "min      0.000000    1.000000    0.000000    0.420000    0.000000   \n",
       "25%      0.000000    2.000000    0.000000   20.125000    7.910400   \n",
       "50%      0.000000    3.000000    0.000000   28.000000   14.454200   \n",
       "75%      1.000000    3.000000    1.000000   38.000000   31.000000   \n",
       "max      1.000000    3.000000    1.000000   80.000000  512.329200   \n",
       "\n",
       "       Numeric_Embarked  \n",
       "count        889.000000  \n",
       "mean           1.362205  \n",
       "std            0.636157  \n",
       "min            1.000000  \n",
       "25%            1.000000  \n",
       "50%            1.000000  \n",
       "75%            2.000000  \n",
       "max            3.000000  "
      ]
     },
     "execution_count": 126,
     "metadata": {},
     "output_type": "execute_result"
    }
   ],
   "source": [
    "df.describe()"
   ]
  },
  {
   "cell_type": "code",
   "execution_count": 127,
   "id": "37776f3d",
   "metadata": {
    "execution": {
     "iopub.status.busy": "2022-12-22T19:17:22.846701Z",
     "iopub.status.idle": "2022-12-22T19:17:22.847351Z",
     "shell.execute_reply": "2022-12-22T19:17:22.847139Z",
     "shell.execute_reply.started": "2022-12-22T19:17:22.847116Z"
    },
    "papermill": {
     "duration": null,
     "end_time": null,
     "exception": null,
     "start_time": null,
     "status": "pending"
    },
    "tags": []
   },
   "outputs": [
    {
     "name": "stdout",
     "output_type": "stream",
     "text": [
      "<class 'pandas.core.frame.DataFrame'>\n",
      "Int64Index: 891 entries, 1 to 891\n",
      "Data columns (total 7 columns):\n",
      " #   Column            Non-Null Count  Dtype  \n",
      "---  ------            --------------  -----  \n",
      " 0   Survived          891 non-null    int64  \n",
      " 1   Pclass            891 non-null    int64  \n",
      " 2   Sex               891 non-null    int64  \n",
      " 3   Age               714 non-null    float64\n",
      " 4   Fare              891 non-null    float64\n",
      " 5   Embarked          889 non-null    object \n",
      " 6   Numeric_Embarked  889 non-null    float64\n",
      "dtypes: float64(3), int64(3), object(1)\n",
      "memory usage: 55.7+ KB\n"
     ]
    }
   ],
   "source": [
    "df.info()"
   ]
  },
  {
   "cell_type": "code",
   "execution_count": 128,
   "id": "2ea1b328",
   "metadata": {},
   "outputs": [
    {
     "data": {
      "text/plain": [
       "<seaborn.axisgrid.PairGrid at 0x21769f6ba00>"
      ]
     },
     "execution_count": 128,
     "metadata": {},
     "output_type": "execute_result"
    },
    {
     "data": {
      "image/png": "[encoded data removed]",
      "text/plain": [
       "<Figure size 951.875x900 with 30 Axes>"
      ]
     },
     "metadata": {
      "needs_background": "light"
     },
     "output_type": "display_data"
    }
   ],
   "source": [
    "sns.pairplot(data=df, hue='Survived')"
   ]
  },
  {
   "cell_type": "code",
   "execution_count": 129,
   "id": "4fe7ce0e",
   "metadata": {},
   "outputs": [
    {
     "data": {
      "image/png": "[encoded data removed]",
      "text/plain": [
       "<Figure size 864x576 with 2 Axes>"
      ]
     },
     "metadata": {
      "needs_background": "light"
     },
     "output_type": "display_data"
    }
   ],
   "source": [
    "plt.figure(figsize=(12,8))\n",
    "sns.heatmap(df.corr(), annot=True)\n",
    "plt.show()"
   ]
  },
  {
   "cell_type": "code",
   "execution_count": 130,
   "id": "83da42f2",
   "metadata": {
    "execution": {
     "iopub.status.busy": "2022-12-22T19:17:22.848553Z",
     "iopub.status.idle": "2022-12-22T19:17:22.849192Z",
     "shell.execute_reply": "2022-12-22T19:17:22.848968Z",
     "shell.execute_reply.started": "2022-12-22T19:17:22.848946Z"
    },
    "papermill": {
     "duration": null,
     "end_time": null,
     "exception": null,
     "start_time": null,
     "status": "pending"
    },
    "tags": []
   },
   "outputs": [],
   "source": [
    "import statsmodels.api as sm\n",
    "import statsmodels.formula.api as smf\n",
    "from sklearn.model_selection import train_test_split"
   ]
  },
  {
   "cell_type": "markdown",
   "id": "fd40bac2",
   "metadata": {
    "papermill": {
     "duration": null,
     "end_time": null,
     "exception": null,
     "start_time": null,
     "status": "pending"
    },
    "tags": []
   },
   "source": [
    "### Régression et imputation des valeurs manquantes sur la variable age"
   ]
  },
  {
   "cell_type": "code",
   "execution_count": 131,
   "id": "92ee8126",
   "metadata": {
    "execution": {
     "iopub.status.busy": "2022-12-22T19:17:22.850406Z",
     "iopub.status.idle": "2022-12-22T19:17:22.851038Z",
     "shell.execute_reply": "2022-12-22T19:17:22.850825Z",
     "shell.execute_reply.started": "2022-12-22T19:17:22.850803Z"
    },
    "papermill": {
     "duration": null,
     "end_time": null,
     "exception": null,
     "start_time": null,
     "status": "pending"
    },
    "tags": []
   },
   "outputs": [],
   "source": [
    "df_a_imputer = df.loc[df['Age'].isnull()]\n",
    "df_entrainement = df.loc[(~df['Age'].isnull())]"
   ]
  },
  {
   "cell_type": "code",
   "execution_count": 132,
   "id": "a57cb53b",
   "metadata": {
    "execution": {
     "iopub.status.busy": "2022-12-22T19:17:22.852585Z",
     "iopub.status.idle": "2022-12-22T19:17:22.853031Z",
     "shell.execute_reply": "2022-12-22T19:17:22.852827Z",
     "shell.execute_reply.started": "2022-12-22T19:17:22.852805Z"
    },
    "papermill": {
     "duration": null,
     "end_time": null,
     "exception": null,
     "start_time": null,
     "status": "pending"
    },
    "tags": []
   },
   "outputs": [],
   "source": [
    "Xtrain, Xtest, Ytrain, Ytest = train_test_split(df_entrainement[['Pclass', 'Sex', 'Fare']], df_entrainement['Age'])"
   ]
  },
  {
   "cell_type": "code",
   "execution_count": 133,
   "id": "3f9a2d69",
   "metadata": {
    "execution": {
     "iopub.status.busy": "2022-12-22T19:17:22.854961Z",
     "iopub.status.idle": "2022-12-22T19:17:22.856005Z",
     "shell.execute_reply": "2022-12-22T19:17:22.855783Z",
     "shell.execute_reply.started": "2022-12-22T19:17:22.855756Z"
    },
    "papermill": {
     "duration": null,
     "end_time": null,
     "exception": null,
     "start_time": null,
     "status": "pending"
    },
    "tags": []
   },
   "outputs": [],
   "source": [
    "train_set = pd.merge(Xtrain, Ytrain, on='PassengerId')"
   ]
  },
  {
   "cell_type": "code",
   "execution_count": 134,
   "id": "e3a4554a",
   "metadata": {
    "execution": {
     "iopub.status.busy": "2022-12-22T19:17:22.857515Z",
     "iopub.status.idle": "2022-12-22T19:17:22.857986Z",
     "shell.execute_reply": "2022-12-22T19:17:22.857768Z",
     "shell.execute_reply.started": "2022-12-22T19:17:22.857743Z"
    },
    "papermill": {
     "duration": null,
     "end_time": null,
     "exception": null,
     "start_time": null,
     "status": "pending"
    },
    "tags": []
   },
   "outputs": [],
   "source": [
    "age_reg = smf.ols('Age~Pclass+Fare', data=train_set).fit()"
   ]
  },
  {
   "cell_type": "code",
   "execution_count": 135,
   "id": "9580deff",
   "metadata": {
    "execution": {
     "iopub.status.busy": "2022-12-22T19:17:22.859673Z",
     "iopub.status.idle": "2022-12-22T19:17:22.860150Z",
     "shell.execute_reply": "2022-12-22T19:17:22.859915Z",
     "shell.execute_reply.started": "2022-12-22T19:17:22.859894Z"
    },
    "papermill": {
     "duration": null,
     "end_time": null,
     "exception": null,
     "start_time": null,
     "status": "pending"
    },
    "tags": []
   },
   "outputs": [
    {
     "data": {
      "text/html": [
       "<table class=\"simpletable\">\n",
       "<caption>OLS Regression Results</caption>\n",
       "<tr>\n",
       "  <th>Dep. Variable:</th>           <td>Age</td>       <th>  R-squared:         </th> <td>   0.146</td>\n",
       "</tr>\n",
       "<tr>\n",
       "  <th>Model:</th>                   <td>OLS</td>       <th>  Adj. R-squared:    </th> <td>   0.143</td>\n",
       "</tr>\n",
       "<tr>\n",
       "  <th>Method:</th>             <td>Least Squares</td>  <th>  F-statistic:       </th> <td>   45.43</td>\n",
       "</tr>\n",
       "<tr>\n",
       "  <th>Date:</th>             <td>Thu, 29 Dec 2022</td> <th>  Prob (F-statistic):</th> <td>6.11e-19</td>\n",
       "</tr>\n",
       "<tr>\n",
       "  <th>Time:</th>                 <td>17:28:32</td>     <th>  Log-Likelihood:    </th> <td> -2147.2</td>\n",
       "</tr>\n",
       "<tr>\n",
       "  <th>No. Observations:</th>      <td>   535</td>      <th>  AIC:               </th> <td>   4300.</td>\n",
       "</tr>\n",
       "<tr>\n",
       "  <th>Df Residuals:</th>          <td>   532</td>      <th>  BIC:               </th> <td>   4313.</td>\n",
       "</tr>\n",
       "<tr>\n",
       "  <th>Df Model:</th>              <td>     2</td>      <th>                     </th>     <td> </td>   \n",
       "</tr>\n",
       "<tr>\n",
       "  <th>Covariance Type:</th>      <td>nonrobust</td>    <th>                     </th>     <td> </td>   \n",
       "</tr>\n",
       "</table>\n",
       "<table class=\"simpletable\">\n",
       "<tr>\n",
       "      <td></td>         <th>coef</th>     <th>std err</th>      <th>t</th>      <th>P>|t|</th>  <th>[0.025</th>    <th>0.975]</th>  \n",
       "</tr>\n",
       "<tr>\n",
       "  <th>Intercept</th> <td>   48.6793</td> <td>    2.237</td> <td>   21.764</td> <td> 0.000</td> <td>   44.285</td> <td>   53.073</td>\n",
       "</tr>\n",
       "<tr>\n",
       "  <th>Pclass</th>    <td>   -7.7513</td> <td>    0.835</td> <td>   -9.283</td> <td> 0.000</td> <td>   -9.392</td> <td>   -6.111</td>\n",
       "</tr>\n",
       "<tr>\n",
       "  <th>Fare</th>      <td>   -0.0445</td> <td>    0.013</td> <td>   -3.346</td> <td> 0.001</td> <td>   -0.071</td> <td>   -0.018</td>\n",
       "</tr>\n",
       "</table>\n",
       "<table class=\"simpletable\">\n",
       "<tr>\n",
       "  <th>Omnibus:</th>       <td> 6.457</td> <th>  Durbin-Watson:     </th> <td>   2.070</td>\n",
       "</tr>\n",
       "<tr>\n",
       "  <th>Prob(Omnibus):</th> <td> 0.040</td> <th>  Jarque-Bera (JB):  </th> <td>   6.323</td>\n",
       "</tr>\n",
       "<tr>\n",
       "  <th>Skew:</th>          <td> 0.237</td> <th>  Prob(JB):          </th> <td>  0.0424</td>\n",
       "</tr>\n",
       "<tr>\n",
       "  <th>Kurtosis:</th>      <td> 3.242</td> <th>  Cond. No.          </th> <td>    256.</td>\n",
       "</tr>\n",
       "</table><br/><br/>Notes:<br/>[1] Standard Errors assume that the covariance matrix of the errors is correctly specified."
      ],
      "text/plain": [
       "<class 'statsmodels.iolib.summary.Summary'>\n",
       "\"\"\"\n",
       "                            OLS Regression Results                            \n",
       "==============================================================================\n",
       "Dep. Variable:                    Age   R-squared:                       0.146\n",
       "Model:                            OLS   Adj. R-squared:                  0.143\n",
       "Method:                 Least Squares   F-statistic:                     45.43\n",
       "Date:                Thu, 29 Dec 2022   Prob (F-statistic):           6.11e-19\n",
       "Time:                        17:28:32   Log-Likelihood:                -2147.2\n",
       "No. Observations:                 535   AIC:                             4300.\n",
       "Df Residuals:                     532   BIC:                             4313.\n",
       "Df Model:                           2                                         \n",
       "Covariance Type:            nonrobust                                         \n",
       "==============================================================================\n",
       "                 coef    std err          t      P>|t|      [0.025      0.975]\n",
       "------------------------------------------------------------------------------\n",
       "Intercept     48.6793      2.237     21.764      0.000      44.285      53.073\n",
       "Pclass        -7.7513      0.835     -9.283      0.000      -9.392      -6.111\n",
       "Fare          -0.0445      0.013     -3.346      0.001      -0.071      -0.018\n",
       "==============================================================================\n",
       "Omnibus:                        6.457   Durbin-Watson:                   2.070\n",
       "Prob(Omnibus):                  0.040   Jarque-Bera (JB):                6.323\n",
       "Skew:                           0.237   Prob(JB):                       0.0424\n",
       "Kurtosis:                       3.242   Cond. No.                         256.\n",
       "==============================================================================\n",
       "\n",
       "Notes:\n",
       "[1] Standard Errors assume that the covariance matrix of the errors is correctly specified.\n",
       "\"\"\""
      ]
     },
     "execution_count": 135,
     "metadata": {},
     "output_type": "execute_result"
    }
   ],
   "source": [
    "age_reg.summary()"
   ]
  },
  {
   "cell_type": "code",
   "execution_count": 136,
   "id": "c0050149",
   "metadata": {
    "execution": {
     "iopub.status.busy": "2022-12-22T19:17:22.861809Z",
     "iopub.status.idle": "2022-12-22T19:17:22.862292Z",
     "shell.execute_reply": "2022-12-22T19:17:22.862050Z",
     "shell.execute_reply.started": "2022-12-22T19:17:22.862029Z"
    },
    "papermill": {
     "duration": null,
     "end_time": null,
     "exception": null,
     "start_time": null,
     "status": "pending"
    },
    "tags": []
   },
   "outputs": [],
   "source": [
    "Ypred = age_reg.predict(Xtest)"
   ]
  },
  {
   "cell_type": "code",
   "execution_count": 137,
   "id": "3350b4a2",
   "metadata": {
    "execution": {
     "iopub.status.busy": "2022-12-22T19:17:22.863520Z",
     "iopub.status.idle": "2022-12-22T19:17:22.863958Z",
     "shell.execute_reply": "2022-12-22T19:17:22.863755Z",
     "shell.execute_reply.started": "2022-12-22T19:17:22.863734Z"
    },
    "papermill": {
     "duration": null,
     "end_time": null,
     "exception": null,
     "start_time": null,
     "status": "pending"
    },
    "tags": []
   },
   "outputs": [],
   "source": [
    "from sklearn import metrics"
   ]
  },
  {
   "cell_type": "code",
   "execution_count": 138,
   "id": "362e6edb",
   "metadata": {
    "execution": {
     "iopub.status.busy": "2022-12-22T19:17:22.865703Z",
     "iopub.status.idle": "2022-12-22T19:17:22.866168Z",
     "shell.execute_reply": "2022-12-22T19:17:22.865939Z",
     "shell.execute_reply.started": "2022-12-22T19:17:22.865918Z"
    },
    "papermill": {
     "duration": null,
     "end_time": null,
     "exception": null,
     "start_time": null,
     "status": "pending"
    },
    "tags": []
   },
   "outputs": [
    {
     "name": "stdout",
     "output_type": "stream",
     "text": [
      "MAE =  10.272083641374394 RMSE =  13.261767207788477\n"
     ]
    }
   ],
   "source": [
    "print('MAE = ', metrics.mean_absolute_error(Ytest, Ypred),\n",
    "     'RMSE = ', np.sqrt(metrics.mean_squared_error(Ytest, Ypred)))"
   ]
  },
  {
   "cell_type": "markdown",
   "id": "91af3181",
   "metadata": {},
   "source": [
    "la variable age ayant une faible faible corrélation avec la classe 'survived' et l'erreur associée à la régression de cette variable étant forte, nous enlèverons les enregistrement ayant une valeur manquante pour cette variable nous pouvons également retirer le lieu d'embarquement car celui ci est peu corrélé avec la classe survived."
   ]
  },
  {
   "cell_type": "code",
   "execution_count": 139,
   "id": "5fa3bb55",
   "metadata": {},
   "outputs": [],
   "source": [
    "dataset = df.loc[(~df['Age'].isnull())][['Survived', 'Pclass', 'Sex', 'Age', 'Fare']]"
   ]
  },
  {
   "cell_type": "code",
   "execution_count": 140,
   "id": "9cb3d5e1",
   "metadata": {},
   "outputs": [
    {
     "data": {
      "text/html": [
       "<div>\n",
       "<style scoped>\n",
       "    .dataframe tbody tr th:only-of-type {\n",
       "        vertical-align: middle;\n",
       "    }\n",
       "\n",
       "    .dataframe tbody tr th {\n",
       "        vertical-align: top;\n",
       "    }\n",
       "\n",
       "    .dataframe thead th {\n",
       "        text-align: right;\n",
       "    }\n",
       "</style>\n",
       "<table border=\"1\" class=\"dataframe\">\n",
       "  <thead>\n",
       "    <tr style=\"text-align: right;\">\n",
       "      <th></th>\n",
       "      <th>Survived</th>\n",
       "      <th>Pclass</th>\n",
       "      <th>Sex</th>\n",
       "      <th>Age</th>\n",
       "      <th>Fare</th>\n",
       "    </tr>\n",
       "    <tr>\n",
       "      <th>PassengerId</th>\n",
       "      <th></th>\n",
       "      <th></th>\n",
       "      <th></th>\n",
       "      <th></th>\n",
       "      <th></th>\n",
       "    </tr>\n",
       "  </thead>\n",
       "  <tbody>\n",
       "    <tr>\n",
       "      <th>1</th>\n",
       "      <td>0</td>\n",
       "      <td>3</td>\n",
       "      <td>0</td>\n",
       "      <td>22.0</td>\n",
       "      <td>7.2500</td>\n",
       "    </tr>\n",
       "    <tr>\n",
       "      <th>2</th>\n",
       "      <td>1</td>\n",
       "      <td>1</td>\n",
       "      <td>1</td>\n",
       "      <td>38.0</td>\n",
       "      <td>71.2833</td>\n",
       "    </tr>\n",
       "    <tr>\n",
       "      <th>3</th>\n",
       "      <td>1</td>\n",
       "      <td>3</td>\n",
       "      <td>1</td>\n",
       "      <td>26.0</td>\n",
       "      <td>7.9250</td>\n",
       "    </tr>\n",
       "    <tr>\n",
       "      <th>4</th>\n",
       "      <td>1</td>\n",
       "      <td>1</td>\n",
       "      <td>1</td>\n",
       "      <td>35.0</td>\n",
       "      <td>53.1000</td>\n",
       "    </tr>\n",
       "    <tr>\n",
       "      <th>5</th>\n",
       "      <td>0</td>\n",
       "      <td>3</td>\n",
       "      <td>0</td>\n",
       "      <td>35.0</td>\n",
       "      <td>8.0500</td>\n",
       "    </tr>\n",
       "    <tr>\n",
       "      <th>...</th>\n",
       "      <td>...</td>\n",
       "      <td>...</td>\n",
       "      <td>...</td>\n",
       "      <td>...</td>\n",
       "      <td>...</td>\n",
       "    </tr>\n",
       "    <tr>\n",
       "      <th>886</th>\n",
       "      <td>0</td>\n",
       "      <td>3</td>\n",
       "      <td>1</td>\n",
       "      <td>39.0</td>\n",
       "      <td>29.1250</td>\n",
       "    </tr>\n",
       "    <tr>\n",
       "      <th>887</th>\n",
       "      <td>0</td>\n",
       "      <td>2</td>\n",
       "      <td>0</td>\n",
       "      <td>27.0</td>\n",
       "      <td>13.0000</td>\n",
       "    </tr>\n",
       "    <tr>\n",
       "      <th>888</th>\n",
       "      <td>1</td>\n",
       "      <td>1</td>\n",
       "      <td>1</td>\n",
       "      <td>19.0</td>\n",
       "      <td>30.0000</td>\n",
       "    </tr>\n",
       "    <tr>\n",
       "      <th>890</th>\n",
       "      <td>1</td>\n",
       "      <td>1</td>\n",
       "      <td>0</td>\n",
       "      <td>26.0</td>\n",
       "      <td>30.0000</td>\n",
       "    </tr>\n",
       "    <tr>\n",
       "      <th>891</th>\n",
       "      <td>0</td>\n",
       "      <td>3</td>\n",
       "      <td>0</td>\n",
       "      <td>32.0</td>\n",
       "      <td>7.7500</td>\n",
       "    </tr>\n",
       "  </tbody>\n",
       "</table>\n",
       "<p>714 rows × 5 columns</p>\n",
       "</div>"
      ],
      "text/plain": [
       "             Survived  Pclass  Sex   Age     Fare\n",
       "PassengerId                                      \n",
       "1                   0       3    0  22.0   7.2500\n",
       "2                   1       1    1  38.0  71.2833\n",
       "3                   1       3    1  26.0   7.9250\n",
       "4                   1       1    1  35.0  53.1000\n",
       "5                   0       3    0  35.0   8.0500\n",
       "...               ...     ...  ...   ...      ...\n",
       "886                 0       3    1  39.0  29.1250\n",
       "887                 0       2    0  27.0  13.0000\n",
       "888                 1       1    1  19.0  30.0000\n",
       "890                 1       1    0  26.0  30.0000\n",
       "891                 0       3    0  32.0   7.7500\n",
       "\n",
       "[714 rows x 5 columns]"
      ]
     },
     "execution_count": 140,
     "metadata": {},
     "output_type": "execute_result"
    }
   ],
   "source": [
    "dataset"
   ]
  },
  {
   "cell_type": "markdown",
   "id": "a3504b7b",
   "metadata": {},
   "source": [
    "### Préprocessing des données et analyse en composante principale"
   ]
  },
  {
   "cell_type": "code",
   "execution_count": 141,
   "id": "734da68c",
   "metadata": {},
   "outputs": [],
   "source": [
    "from sklearn.decomposition import PCA\n",
    "from sklearn.preprocessing import StandardScaler, RobustScaler"
   ]
  },
  {
   "cell_type": "markdown",
   "id": "e97484b1",
   "metadata": {},
   "source": [
    "Vérfication de la présence d'outliers dans le dataset"
   ]
  },
  {
   "cell_type": "code",
   "execution_count": 142,
   "id": "cba0a3e9",
   "metadata": {},
   "outputs": [
    {
     "data": {
      "image/png": "[encoded data removed]",
      "text/plain": [
       "<Figure size 864x864 with 4 Axes>"
      ]
     },
     "metadata": {
      "needs_background": "light"
     },
     "output_type": "display_data"
    }
   ],
   "source": [
    "n = len(dataset.columns)\n",
    "\n",
    "plt.figure(figsize=(12,12))\n",
    "for i in range(1,n,1):\n",
    "    plt.subplot(4,4,i)\n",
    "    #plt.title(df.columns[i])\n",
    "    sns.boxplot(data=df, x=df.columns[i])"
   ]
  },
  {
   "cell_type": "markdown",
   "id": "b23e90dc",
   "metadata": {},
   "source": [
    "la variable fare contenant beaucoup d'outliers 2 solutions s'offrent à nous, la première serait d'utiliser un robust scaller sur l'integralité du dataset, la seconde serait d'éliminer ces outliers par la méthode interquartile et utiliser un standard scaller."
   ]
  },
  {
   "cell_type": "code",
   "execution_count": 143,
   "id": "ae29ff67",
   "metadata": {},
   "outputs": [],
   "source": [
    "dataset_features = dataset[['Pclass', 'Sex', 'Age', 'Fare']]\n",
    "dataset_target = dataset['Survived']\n",
    "dataset_label = dataset.columns"
   ]
  },
  {
   "cell_type": "code",
   "execution_count": 144,
   "id": "2bae4ed4",
   "metadata": {},
   "outputs": [],
   "source": [
    "Rob_scal = RobustScaler()\n",
    "Rob_scalled_feature = Rob_scal.fit_transform(dataset_features)"
   ]
  },
  {
   "cell_type": "code",
   "execution_count": 145,
   "id": "f4c1dad5",
   "metadata": {},
   "outputs": [
    {
     "data": {
      "text/plain": [
       "['Survived', 'Pclass', 'Sex', 'Age', 'Fare']"
      ]
     },
     "execution_count": 145,
     "metadata": {},
     "output_type": "execute_result"
    }
   ],
   "source": [
    "dataset_label.tolist()"
   ]
  },
  {
   "cell_type": "code",
   "execution_count": 146,
   "id": "747ff1c2",
   "metadata": {},
   "outputs": [],
   "source": [
    "df_rob_scalled = pd.DataFrame(Rob_scalled_feature)\n",
    "df_rob_scalled.columns =  dataset_label.tolist()[1:]"
   ]
  },
  {
   "cell_type": "code",
   "execution_count": 147,
   "id": "1460cfbc",
   "metadata": {},
   "outputs": [
    {
     "data": {
      "text/html": [
       "<div>\n",
       "<style scoped>\n",
       "    .dataframe tbody tr th:only-of-type {\n",
       "        vertical-align: middle;\n",
       "    }\n",
       "\n",
       "    .dataframe tbody tr th {\n",
       "        vertical-align: top;\n",
       "    }\n",
       "\n",
       "    .dataframe thead th {\n",
       "        text-align: right;\n",
       "    }\n",
       "</style>\n",
       "<table border=\"1\" class=\"dataframe\">\n",
       "  <thead>\n",
       "    <tr style=\"text-align: right;\">\n",
       "      <th></th>\n",
       "      <th>Pclass</th>\n",
       "      <th>Sex</th>\n",
       "      <th>Age</th>\n",
       "      <th>Fare</th>\n",
       "    </tr>\n",
       "  </thead>\n",
       "  <tbody>\n",
       "    <tr>\n",
       "      <th>0</th>\n",
       "      <td>0.5</td>\n",
       "      <td>0.0</td>\n",
       "      <td>-0.335664</td>\n",
       "      <td>-0.335309</td>\n",
       "    </tr>\n",
       "    <tr>\n",
       "      <th>1</th>\n",
       "      <td>-0.5</td>\n",
       "      <td>1.0</td>\n",
       "      <td>0.559441</td>\n",
       "      <td>2.193153</td>\n",
       "    </tr>\n",
       "    <tr>\n",
       "      <th>2</th>\n",
       "      <td>0.5</td>\n",
       "      <td>1.0</td>\n",
       "      <td>-0.111888</td>\n",
       "      <td>-0.308655</td>\n",
       "    </tr>\n",
       "    <tr>\n",
       "      <th>3</th>\n",
       "      <td>-0.5</td>\n",
       "      <td>1.0</td>\n",
       "      <td>0.391608</td>\n",
       "      <td>1.475155</td>\n",
       "    </tr>\n",
       "    <tr>\n",
       "      <th>4</th>\n",
       "      <td>0.5</td>\n",
       "      <td>0.0</td>\n",
       "      <td>0.391608</td>\n",
       "      <td>-0.303720</td>\n",
       "    </tr>\n",
       "    <tr>\n",
       "      <th>...</th>\n",
       "      <td>...</td>\n",
       "      <td>...</td>\n",
       "      <td>...</td>\n",
       "      <td>...</td>\n",
       "    </tr>\n",
       "    <tr>\n",
       "      <th>709</th>\n",
       "      <td>0.5</td>\n",
       "      <td>1.0</td>\n",
       "      <td>0.615385</td>\n",
       "      <td>0.528462</td>\n",
       "    </tr>\n",
       "    <tr>\n",
       "      <th>710</th>\n",
       "      <td>0.0</td>\n",
       "      <td>0.0</td>\n",
       "      <td>-0.055944</td>\n",
       "      <td>-0.108261</td>\n",
       "    </tr>\n",
       "    <tr>\n",
       "      <th>711</th>\n",
       "      <td>-0.5</td>\n",
       "      <td>1.0</td>\n",
       "      <td>-0.503497</td>\n",
       "      <td>0.563013</td>\n",
       "    </tr>\n",
       "    <tr>\n",
       "      <th>712</th>\n",
       "      <td>-0.5</td>\n",
       "      <td>0.0</td>\n",
       "      <td>-0.111888</td>\n",
       "      <td>0.563013</td>\n",
       "    </tr>\n",
       "    <tr>\n",
       "      <th>713</th>\n",
       "      <td>0.5</td>\n",
       "      <td>0.0</td>\n",
       "      <td>0.223776</td>\n",
       "      <td>-0.315566</td>\n",
       "    </tr>\n",
       "  </tbody>\n",
       "</table>\n",
       "<p>714 rows × 4 columns</p>\n",
       "</div>"
      ],
      "text/plain": [
       "     Pclass  Sex       Age      Fare\n",
       "0       0.5  0.0 -0.335664 -0.335309\n",
       "1      -0.5  1.0  0.559441  2.193153\n",
       "2       0.5  1.0 -0.111888 -0.308655\n",
       "3      -0.5  1.0  0.391608  1.475155\n",
       "4       0.5  0.0  0.391608 -0.303720\n",
       "..      ...  ...       ...       ...\n",
       "709     0.5  1.0  0.615385  0.528462\n",
       "710     0.0  0.0 -0.055944 -0.108261\n",
       "711    -0.5  1.0 -0.503497  0.563013\n",
       "712    -0.5  0.0 -0.111888  0.563013\n",
       "713     0.5  0.0  0.223776 -0.315566\n",
       "\n",
       "[714 rows x 4 columns]"
      ]
     },
     "execution_count": 147,
     "metadata": {},
     "output_type": "execute_result"
    }
   ],
   "source": [
    "df_rob_scalled"
   ]
  },
  {
   "cell_type": "code",
   "execution_count": 148,
   "id": "d1ca0caa",
   "metadata": {},
   "outputs": [],
   "source": [
    "pca = PCA(n_components=4)\n",
    "Rob_PCA = pca.fit_transform(df_rob_scalled)"
   ]
  },
  {
   "cell_type": "code",
   "execution_count": 149,
   "id": "5a0a9f23",
   "metadata": {},
   "outputs": [
    {
     "data": {
      "image/png": "[encoded data removed]",
      "text/plain": [
       "<Figure size 576x432 with 1 Axes>"
      ]
     },
     "metadata": {
      "needs_background": "light"
     },
     "output_type": "display_data"
    }
   ],
   "source": [
    "cum_exp_var = []\n",
    "var_exp = 0\n",
    "for i in pca.explained_variance_ratio_:\n",
    "    var_exp += i\n",
    "    cum_exp_var.append(var_exp)\n",
    "\n",
    "\n",
    "fig, ax = plt.subplots(figsize=(8,6))\n",
    "plt.title(\"Eboulis des valeurs propres\")\n",
    "ax.bar(range(0,4), cum_exp_var)\n",
    "ax.set_xlabel('# Principal Components')\n",
    "ax.set_ylabel('% Cumulative Variance Explained')\n",
    "plt.show()"
   ]
  },
  {
   "cell_type": "code",
   "execution_count": 150,
   "id": "9b04b6a3",
   "metadata": {},
   "outputs": [
    {
     "data": {
      "text/plain": [
       "<AxesSubplot:>"
      ]
     },
     "execution_count": 150,
     "metadata": {},
     "output_type": "execute_result"
    },
    {
     "data": {
      "image/png": "[encoded data removed]",
      "text/plain": [
       "<Figure size 432x288 with 2 Axes>"
      ]
     },
     "metadata": {
      "needs_background": "light"
     },
     "output_type": "display_data"
    }
   ],
   "source": [
    "pcs = pd.DataFrame(pca.components_)\n",
    "pcs.columns = dataset_label.tolist()[1:]\n",
    "sns.heatmap(pcs.T, annot=True)"
   ]
  },
  {
   "cell_type": "code",
   "execution_count": 151,
   "id": "d96f4493",
   "metadata": {},
   "outputs": [
    {
     "data": {
      "text/plain": [
       "PassengerId\n",
       "1      0\n",
       "2      1\n",
       "3      1\n",
       "4      1\n",
       "5      0\n",
       "      ..\n",
       "886    0\n",
       "887    0\n",
       "888    1\n",
       "890    1\n",
       "891    0\n",
       "Name: Survived, Length: 714, dtype: int64"
      ]
     },
     "execution_count": 151,
     "metadata": {},
     "output_type": "execute_result"
    }
   ],
   "source": [
    "dataset_target"
   ]
  },
  {
   "cell_type": "code",
   "execution_count": 152,
   "id": "fa6521de",
   "metadata": {},
   "outputs": [
    {
     "data": {
      "text/plain": [
       "<AxesSubplot:>"
      ]
     },
     "execution_count": 152,
     "metadata": {},
     "output_type": "execute_result"
    },
    {
     "data": {
      "image/png": "[encoded data removed]",
      "text/plain": [
       "<Figure size 432x288 with 1 Axes>"
      ]
     },
     "metadata": {
      "needs_background": "light"
     },
     "output_type": "display_data"
    }
   ],
   "source": [
    "sns.scatterplot(data=Rob_PCA, x=Rob_PCA[:, 0], y=Rob_PCA[:,1])"
   ]
  },
  {
   "cell_type": "markdown",
   "id": "699fbb75",
   "metadata": {},
   "source": [
    "### Prédiction de la classe survived par regression logistique.  "
   ]
  },
  {
   "cell_type": "code",
   "execution_count": 153,
   "id": "64ef932c",
   "metadata": {},
   "outputs": [],
   "source": [
    "Xtrain_logit, Xtest_logit, Ytrain_logit, Ytest_logit = train_test_split(dataset_features, dataset_target)"
   ]
  },
  {
   "cell_type": "code",
   "execution_count": 154,
   "id": "180e91bd",
   "metadata": {},
   "outputs": [
    {
     "name": "stdout",
     "output_type": "stream",
     "text": [
      "Optimization terminated successfully.\n",
      "         Current function value: 0.470186\n",
      "         Iterations 6\n"
     ]
    },
    {
     "data": {
      "text/html": [
       "<table class=\"simpletable\">\n",
       "<caption>Logit Regression Results</caption>\n",
       "<tr>\n",
       "  <th>Dep. Variable:</th>       <td>Survived</td>     <th>  No. Observations:  </th>  <td>   535</td>  \n",
       "</tr>\n",
       "<tr>\n",
       "  <th>Model:</th>                 <td>Logit</td>      <th>  Df Residuals:      </th>  <td>   531</td>  \n",
       "</tr>\n",
       "<tr>\n",
       "  <th>Method:</th>                 <td>MLE</td>       <th>  Df Model:          </th>  <td>     3</td>  \n",
       "</tr>\n",
       "<tr>\n",
       "  <th>Date:</th>            <td>Thu, 29 Dec 2022</td> <th>  Pseudo R-squ.:     </th>  <td>0.3014</td>  \n",
       "</tr>\n",
       "<tr>\n",
       "  <th>Time:</th>                <td>17:28:34</td>     <th>  Log-Likelihood:    </th> <td> -251.55</td> \n",
       "</tr>\n",
       "<tr>\n",
       "  <th>converged:</th>             <td>True</td>       <th>  LL-Null:           </th> <td> -360.06</td> \n",
       "</tr>\n",
       "<tr>\n",
       "  <th>Covariance Type:</th>     <td>nonrobust</td>    <th>  LLR p-value:       </th> <td>8.831e-47</td>\n",
       "</tr>\n",
       "</table>\n",
       "<table class=\"simpletable\">\n",
       "<tr>\n",
       "     <td></td>       <th>coef</th>     <th>std err</th>      <th>z</th>      <th>P>|z|</th>  <th>[0.025</th>    <th>0.975]</th>  \n",
       "</tr>\n",
       "<tr>\n",
       "  <th>Pclass</th> <td>   -0.6169</td> <td>    0.085</td> <td>   -7.218</td> <td> 0.000</td> <td>   -0.784</td> <td>   -0.449</td>\n",
       "</tr>\n",
       "<tr>\n",
       "  <th>Sex</th>    <td>    2.5849</td> <td>    0.231</td> <td>   11.173</td> <td> 0.000</td> <td>    2.131</td> <td>    3.038</td>\n",
       "</tr>\n",
       "<tr>\n",
       "  <th>Age</th>    <td>   -0.0115</td> <td>    0.006</td> <td>   -1.942</td> <td> 0.052</td> <td>   -0.023</td> <td>    0.000</td>\n",
       "</tr>\n",
       "<tr>\n",
       "  <th>Fare</th>   <td>    0.0056</td> <td>    0.002</td> <td>    2.326</td> <td> 0.020</td> <td>    0.001</td> <td>    0.010</td>\n",
       "</tr>\n",
       "</table>"
      ],
      "text/plain": [
       "<class 'statsmodels.iolib.summary.Summary'>\n",
       "\"\"\"\n",
       "                           Logit Regression Results                           \n",
       "==============================================================================\n",
       "Dep. Variable:               Survived   No. Observations:                  535\n",
       "Model:                          Logit   Df Residuals:                      531\n",
       "Method:                           MLE   Df Model:                            3\n",
       "Date:                Thu, 29 Dec 2022   Pseudo R-squ.:                  0.3014\n",
       "Time:                        17:28:34   Log-Likelihood:                -251.55\n",
       "converged:                       True   LL-Null:                       -360.06\n",
       "Covariance Type:            nonrobust   LLR p-value:                 8.831e-47\n",
       "==============================================================================\n",
       "                 coef    std err          z      P>|z|      [0.025      0.975]\n",
       "------------------------------------------------------------------------------\n",
       "Pclass        -0.6169      0.085     -7.218      0.000      -0.784      -0.449\n",
       "Sex            2.5849      0.231     11.173      0.000       2.131       3.038\n",
       "Age           -0.0115      0.006     -1.942      0.052      -0.023       0.000\n",
       "Fare           0.0056      0.002      2.326      0.020       0.001       0.010\n",
       "==============================================================================\n",
       "\"\"\""
      ]
     },
     "execution_count": 154,
     "metadata": {},
     "output_type": "execute_result"
    }
   ],
   "source": [
    "logit = sm.Logit(Ytrain_logit, Xtrain_logit).fit()\n",
    "logit.summary()"
   ]
  },
  {
   "cell_type": "code",
   "execution_count": 155,
   "id": "536357ad",
   "metadata": {},
   "outputs": [],
   "source": [
    "Ypred_logit = logit.predict(Xtest_logit) > 0.5"
   ]
  },
  {
   "cell_type": "code",
   "execution_count": 156,
   "id": "53b8f7ff",
   "metadata": {},
   "outputs": [],
   "source": [
    "from sklearn.metrics import confusion_matrix, classification_report"
   ]
  },
  {
   "cell_type": "code",
   "execution_count": 157,
   "id": "67effc0a",
   "metadata": {},
   "outputs": [
    {
     "data": {
      "text/plain": [
       "array([[86, 17],\n",
       "       [26, 50]], dtype=int64)"
      ]
     },
     "execution_count": 157,
     "metadata": {},
     "output_type": "execute_result"
    }
   ],
   "source": [
    "confusion_matrix(Ytest_logit, Ypred_logit)"
   ]
  },
  {
   "cell_type": "code",
   "execution_count": 158,
   "id": "55a7b249",
   "metadata": {},
   "outputs": [
    {
     "name": "stdout",
     "output_type": "stream",
     "text": [
      "              precision    recall  f1-score   support\n",
      "\n",
      "           0       0.77      0.83      0.80       103\n",
      "           1       0.75      0.66      0.70        76\n",
      "\n",
      "    accuracy                           0.76       179\n",
      "   macro avg       0.76      0.75      0.75       179\n",
      "weighted avg       0.76      0.76      0.76       179\n",
      "\n"
     ]
    }
   ],
   "source": [
    "print(classification_report(Ytest_logit, Ypred_logit))"
   ]
  },
  {
   "cell_type": "markdown",
   "id": "9742071e",
   "metadata": {},
   "source": [
    "au total 76% des enregistrement on été correctement prédits par la régression logistique, peut mieux faire..."
   ]
  },
  {
   "cell_type": "markdown",
   "id": "1d150dd4",
   "metadata": {},
   "source": [
    "### Prédiction de la classe survived par KNN"
   ]
  },
  {
   "cell_type": "code",
   "execution_count": 159,
   "id": "713e4279",
   "metadata": {},
   "outputs": [],
   "source": [
    "from sklearn.neighbors import KNeighborsClassifier\n",
    "from sklearn.model_selection import GridSearchCV"
   ]
  },
  {
   "cell_type": "code",
   "execution_count": null,
   "id": "7ef4faf7",
   "metadata": {},
   "outputs": [],
   "source": []
  }
 ],
 "metadata": {
  "kernelspec": {
   "display_name": "Python 3.9.7 ('base')",
   "language": "python",
   "name": "python3"
  },
  "language_info": {
   "codemirror_mode": {
    "name": "ipython",
    "version": 3
   },
   "file_extension": ".py",
   "mimetype": "text/x-python",
   "name": "python",
   "nbconvert_exporter": "python",
   "pygments_lexer": "ipython3",
   "version": "3.9.7"
  },
  "papermill": {
   "default_parameters": {},
   "duration": 13.541857,
   "end_time": "2022-12-22T19:18:51.899129",
   "environment_variables": {},
   "exception": true,
   "input_path": "__notebook__.ipynb",
   "output_path": "__notebook__.ipynb",
   "parameters": {},
   "start_time": "2022-12-22T19:18:38.357272",
   "version": "2.3.4"
  },
  "vscode": {
   "interpreter": {
    "hash": "d7288e82646d3164eca24130947288f8779d11454649f2c02a5dfc42af7f324c"
   }
  }
 },
 "nbformat": 4,
 "nbformat_minor": 5
}
